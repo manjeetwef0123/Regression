import numpy as np
import pandas as pd
import matplotlib.pyplot as plt

data=pd.read_csv("Salary_Data.csv")
X=data.iloc[:,:-1].values
y=data.iloc[:,-1].values

from sklearn.model_selection import train_test_split
X_train,X_test,y_train,y_test=train_test_split(X,y, test_size=0.2, random_state=0)

from sklearn.linear_model import LinearRegression
regressor=LinearRegression()
regressor.fit(X_train,y_train)

y_pred=regressor.predict(X_test)

plt.scatter(X_train,y_train,c='red')
plt.plot(X_train,regressor.predict(X_train))
plt.xlabel('YearsExperience')
plt.ylabel('Salary')
plt.title('Predition of the training set')

plt.scatter(X_test,y_test,color='red')
plt.plot(X_test,y_pred,color='green')
plt.xlabel('Years of Experience')
plt.ylabel('Salary')
plt.title('Prediction of test results')

regressor.predict([[100]])
